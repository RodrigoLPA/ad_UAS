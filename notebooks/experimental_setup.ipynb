{
 "cells": [
  {
   "cell_type": "markdown",
   "metadata": {},
   "source": [
    "# Setting up the stage for our anomaly detection experiments"
   ]
  },
  {
   "cell_type": "markdown",
   "metadata": {},
   "source": [
    "## Data gathering strategy\n",
    "- The data capturing period started at 9 a.m., Monday, and ended at 5 p.m. on Friday, for a total of 5 days.\n",
    "- Monday is the normal day and only includes benign traffic. \n",
    "- They have been executed both morning and afternoon on Tuesday, Wednesday, Thursday and Friday.\n",
    "- The implemented attacks include Brute Force FTP, Brute Force SSH, DoS, Heartbleed, Web Attack, Infiltration, Botnet and DDoS, and they have been executed both morning and afternoon on Tuesday, Wednesday, Thursday and Friday."
   ]
  },
  {
   "cell_type": "code",
   "execution_count": 16,
   "metadata": {},
   "outputs": [],
   "source": [
    "import numpy as np\n",
    "import matplotlib.pyplot as plt\n",
    "import pandas as pd\n",
    "from tqdm import tqdm\n",
    "import sys\n",
    "from pprint import pprint\n",
    "import seaborn as sns\n",
    "import time\n",
    "import os\n",
    "import math"
   ]
  },
  {
   "cell_type": "code",
   "execution_count": 17,
   "metadata": {},
   "outputs": [],
   "source": [
    "# # In case dask is needed\n",
    "# Keep an eye on [Dask's best practices](https://docs.dask.org/en/stable/best-practices.html)!\n",
    "# import dask.dataframe as dd\n",
    "# import dask.array as da\n",
    "# import dask.bag as db\n",
    "# from dask.distributed import LocalCluster\n",
    "\n",
    "# # Setting up dask cluster\n",
    "# cluster = LocalCluster()\n",
    "# client = cluster.get_client()\n",
    "# print(f'Dask dashboard at: {client.dashboard_link}')\n",
    "# print(\n",
    "#     f\"For an explanation on how to interpret the dashboard: https://docs.dask.org/en/stable/dashboard.html\")"
   ]
  },
  {
   "cell_type": "markdown",
   "metadata": {},
   "source": [
    "## Data Loading and Exploring\n",
    "\n",
    "### Notes \n",
    "- Confirmed that all .csv files have the same features.\n",
    "- From literature review (see README), we know that the original dataset was flawed. We will use the corrected version, taking the \"Attempted Category\" as our golden label.\n"
   ]
  },
  {
   "cell_type": "code",
   "execution_count": 18,
   "metadata": {},
   "outputs": [],
   "source": [
    "# Path to dataset folder\n",
    "path = \"../data/raw/\"\n",
    "\n",
    "# Getting all file paths\n",
    "paths = []\n",
    "for dirname, _, filenames in os.walk(path):\n",
    "    for filename in filenames:\n",
    "        if filename.endswith(\".csv\"):\n",
    "            paths.append(os.path.join(dirname, filename))"
   ]
  },
  {
   "cell_type": "markdown",
   "metadata": {},
   "source": [
    "### Exploring"
   ]
  },
  {
   "cell_type": "code",
   "execution_count": 19,
   "metadata": {},
   "outputs": [
    {
     "data": {
      "text/html": [
       "<div>\n",
       "<style scoped>\n",
       "    .dataframe tbody tr th:only-of-type {\n",
       "        vertical-align: middle;\n",
       "    }\n",
       "\n",
       "    .dataframe tbody tr th {\n",
       "        vertical-align: top;\n",
       "    }\n",
       "\n",
       "    .dataframe thead th {\n",
       "        text-align: right;\n",
       "    }\n",
       "</style>\n",
       "<table border=\"1\" class=\"dataframe\">\n",
       "  <thead>\n",
       "    <tr style=\"text-align: right;\">\n",
       "      <th></th>\n",
       "      <th>id</th>\n",
       "      <th>Flow ID</th>\n",
       "      <th>Src IP</th>\n",
       "      <th>Src Port</th>\n",
       "      <th>Dst IP</th>\n",
       "      <th>Dst Port</th>\n",
       "      <th>Protocol</th>\n",
       "      <th>Timestamp</th>\n",
       "      <th>Flow Duration</th>\n",
       "      <th>Total Fwd Packet</th>\n",
       "      <th>...</th>\n",
       "      <th>Active Min</th>\n",
       "      <th>Idle Mean</th>\n",
       "      <th>Idle Std</th>\n",
       "      <th>Idle Max</th>\n",
       "      <th>Idle Min</th>\n",
       "      <th>ICMP Code</th>\n",
       "      <th>ICMP Type</th>\n",
       "      <th>Total TCP Flow Time</th>\n",
       "      <th>Label</th>\n",
       "      <th>Attempted Category</th>\n",
       "    </tr>\n",
       "  </thead>\n",
       "  <tbody>\n",
       "    <tr>\n",
       "      <th>0</th>\n",
       "      <td>1</td>\n",
       "      <td>192.168.10.5-192.168.10.3-49159-445-6</td>\n",
       "      <td>192.168.10.5</td>\n",
       "      <td>49159</td>\n",
       "      <td>192.168.10.3</td>\n",
       "      <td>445</td>\n",
       "      <td>6</td>\n",
       "      <td>2017-07-04 11:53:44.398274</td>\n",
       "      <td>90030854</td>\n",
       "      <td>10</td>\n",
       "      <td>...</td>\n",
       "      <td>57</td>\n",
       "      <td>2.998751e+07</td>\n",
       "      <td>3.559250e+04</td>\n",
       "      <td>30013373</td>\n",
       "      <td>29946916</td>\n",
       "      <td>-1</td>\n",
       "      <td>-1</td>\n",
       "      <td>90030854</td>\n",
       "      <td>BENIGN</td>\n",
       "      <td>-1</td>\n",
       "    </tr>\n",
       "    <tr>\n",
       "      <th>1</th>\n",
       "      <td>2</td>\n",
       "      <td>8.6.0.1-8.0.6.4-0-0-0</td>\n",
       "      <td>8.6.0.1</td>\n",
       "      <td>0</td>\n",
       "      <td>8.0.6.4</td>\n",
       "      <td>0</td>\n",
       "      <td>0</td>\n",
       "      <td>2017-07-04 11:54:12.355218</td>\n",
       "      <td>106007973</td>\n",
       "      <td>26</td>\n",
       "      <td>...</td>\n",
       "      <td>19</td>\n",
       "      <td>1.981684e+07</td>\n",
       "      <td>8.154881e+06</td>\n",
       "      <td>27220170</td>\n",
       "      <td>7234941</td>\n",
       "      <td>-1</td>\n",
       "      <td>-1</td>\n",
       "      <td>0</td>\n",
       "      <td>BENIGN</td>\n",
       "      <td>-1</td>\n",
       "    </tr>\n",
       "    <tr>\n",
       "      <th>2</th>\n",
       "      <td>3</td>\n",
       "      <td>192.168.10.5-192.168.10.3-123-123-17</td>\n",
       "      <td>192.168.10.5</td>\n",
       "      <td>123</td>\n",
       "      <td>192.168.10.3</td>\n",
       "      <td>123</td>\n",
       "      <td>17</td>\n",
       "      <td>2017-07-04 11:54:32.240412</td>\n",
       "      <td>64015367</td>\n",
       "      <td>4</td>\n",
       "      <td>...</td>\n",
       "      <td>139</td>\n",
       "      <td>6.401513e+07</td>\n",
       "      <td>0.000000e+00</td>\n",
       "      <td>64015127</td>\n",
       "      <td>64015127</td>\n",
       "      <td>-1</td>\n",
       "      <td>-1</td>\n",
       "      <td>0</td>\n",
       "      <td>BENIGN</td>\n",
       "      <td>-1</td>\n",
       "    </tr>\n",
       "    <tr>\n",
       "      <th>3</th>\n",
       "      <td>4</td>\n",
       "      <td>192.168.10.3-192.168.10.1-60280-53-17</td>\n",
       "      <td>192.168.10.3</td>\n",
       "      <td>60280</td>\n",
       "      <td>192.168.10.1</td>\n",
       "      <td>53</td>\n",
       "      <td>17</td>\n",
       "      <td>2017-07-04 11:55:07.615878</td>\n",
       "      <td>46870</td>\n",
       "      <td>1</td>\n",
       "      <td>...</td>\n",
       "      <td>0</td>\n",
       "      <td>0.000000e+00</td>\n",
       "      <td>0.000000e+00</td>\n",
       "      <td>0</td>\n",
       "      <td>0</td>\n",
       "      <td>-1</td>\n",
       "      <td>-1</td>\n",
       "      <td>0</td>\n",
       "      <td>BENIGN</td>\n",
       "      <td>-1</td>\n",
       "    </tr>\n",
       "    <tr>\n",
       "      <th>4</th>\n",
       "      <td>5</td>\n",
       "      <td>192.168.10.3-192.168.10.1-61995-53-17</td>\n",
       "      <td>192.168.10.3</td>\n",
       "      <td>61995</td>\n",
       "      <td>192.168.10.1</td>\n",
       "      <td>53</td>\n",
       "      <td>17</td>\n",
       "      <td>2017-07-04 11:54:12.427035</td>\n",
       "      <td>62958</td>\n",
       "      <td>1</td>\n",
       "      <td>...</td>\n",
       "      <td>0</td>\n",
       "      <td>0.000000e+00</td>\n",
       "      <td>0.000000e+00</td>\n",
       "      <td>0</td>\n",
       "      <td>0</td>\n",
       "      <td>-1</td>\n",
       "      <td>-1</td>\n",
       "      <td>0</td>\n",
       "      <td>BENIGN</td>\n",
       "      <td>-1</td>\n",
       "    </tr>\n",
       "  </tbody>\n",
       "</table>\n",
       "<p>5 rows × 91 columns</p>\n",
       "</div>"
      ],
      "text/plain": [
       "   id                                Flow ID        Src IP  Src Port  \\\n",
       "0   1  192.168.10.5-192.168.10.3-49159-445-6  192.168.10.5     49159   \n",
       "1   2                  8.6.0.1-8.0.6.4-0-0-0       8.6.0.1         0   \n",
       "2   3   192.168.10.5-192.168.10.3-123-123-17  192.168.10.5       123   \n",
       "3   4  192.168.10.3-192.168.10.1-60280-53-17  192.168.10.3     60280   \n",
       "4   5  192.168.10.3-192.168.10.1-61995-53-17  192.168.10.3     61995   \n",
       "\n",
       "         Dst IP  Dst Port  Protocol                   Timestamp  \\\n",
       "0  192.168.10.3       445         6  2017-07-04 11:53:44.398274   \n",
       "1       8.0.6.4         0         0  2017-07-04 11:54:12.355218   \n",
       "2  192.168.10.3       123        17  2017-07-04 11:54:32.240412   \n",
       "3  192.168.10.1        53        17  2017-07-04 11:55:07.615878   \n",
       "4  192.168.10.1        53        17  2017-07-04 11:54:12.427035   \n",
       "\n",
       "   Flow Duration  Total Fwd Packet  ...  Active Min     Idle Mean  \\\n",
       "0       90030854                10  ...          57  2.998751e+07   \n",
       "1      106007973                26  ...          19  1.981684e+07   \n",
       "2       64015367                 4  ...         139  6.401513e+07   \n",
       "3          46870                 1  ...           0  0.000000e+00   \n",
       "4          62958                 1  ...           0  0.000000e+00   \n",
       "\n",
       "       Idle Std  Idle Max  Idle Min  ICMP Code  ICMP Type  \\\n",
       "0  3.559250e+04  30013373  29946916         -1         -1   \n",
       "1  8.154881e+06  27220170   7234941         -1         -1   \n",
       "2  0.000000e+00  64015127  64015127         -1         -1   \n",
       "3  0.000000e+00         0         0         -1         -1   \n",
       "4  0.000000e+00         0         0         -1         -1   \n",
       "\n",
       "   Total TCP Flow Time   Label  Attempted Category  \n",
       "0             90030854  BENIGN                  -1  \n",
       "1                    0  BENIGN                  -1  \n",
       "2                    0  BENIGN                  -1  \n",
       "3                    0  BENIGN                  -1  \n",
       "4                    0  BENIGN                  -1  \n",
       "\n",
       "[5 rows x 91 columns]"
      ]
     },
     "execution_count": 19,
     "metadata": {},
     "output_type": "execute_result"
    }
   ],
   "source": [
    "# # Loading only a few rows of a single dataset to explore data structure\n",
    "df_proto = pd.read_csv(paths[0], nrows=10)\n",
    "df_proto.head()"
   ]
  },
  {
   "cell_type": "markdown",
   "metadata": {},
   "source": [
    "### Preprocessing"
   ]
  },
  {
   "cell_type": "code",
   "execution_count": 10,
   "metadata": {},
   "outputs": [
    {
     "name": "stderr",
     "output_type": "stream",
     "text": [
      "100%|██████████| 5/5 [00:14<00:00,  3.00s/it]\n"
     ]
    }
   ],
   "source": [
    "df = pd.DataFrame()\n",
    "\n",
    "for path in tqdm(paths):\n",
    "    temp_df = pd.read_csv(path)\n",
    "    df = pd.concat([df, temp_df], ignore_index=True)"
   ]
  },
  {
   "cell_type": "code",
   "execution_count": 29,
   "metadata": {},
   "outputs": [
    {
     "name": "stdout",
     "output_type": "stream",
     "text": [
      "Unique labels:\n",
      "['BENIGN' 'FTP-Patator - Attempted' 'FTP-Patator' 'SSH-Patator'\n",
      " 'SSH-Patator - Attempted' 'Web Attack - Brute Force - Attempted'\n",
      " 'Web Attack - Brute Force' 'Infiltration - Attempted' 'Infiltration'\n",
      " 'Infiltration - Portscan' 'Web Attack - XSS - Attempted'\n",
      " 'Web Attack - XSS' 'Web Attack - SQL Injection - Attempted'\n",
      " 'Web Attack - SQL Injection' 'DoS Slowloris' 'DoS Slowloris - Attempted'\n",
      " 'DoS Slowhttptest' 'DoS Slowhttptest - Attempted' 'DoS Hulk'\n",
      " 'DoS Hulk - Attempted' 'DoS GoldenEye' 'Heartbleed'\n",
      " 'DoS GoldenEye - Attempted' 'Botnet - Attempted' 'Botnet' 'Portscan'\n",
      " 'DDoS']\n"
     ]
    }
   ],
   "source": [
    "# Printing all unique labels\n",
    "unique_labels = df['Label'].unique()\n",
    "print(f'Unique labels:\\n{unique_labels}')"
   ]
  },
  {
   "cell_type": "code",
   "execution_count": 27,
   "metadata": {},
   "outputs": [
    {
     "data": {
      "text/plain": [
       "['BENIGN',\n",
       " 'FTP-Patator',\n",
       " 'SSH-Patator',\n",
       " 'Web Attack - Brute Force',\n",
       " 'Infiltration',\n",
       " 'Infiltration - Portscan',\n",
       " 'Web Attack - XSS',\n",
       " 'Web Attack - SQL Injection',\n",
       " 'DoS Slowloris',\n",
       " 'DoS Slowhttptest',\n",
       " 'DoS Hulk',\n",
       " 'DoS GoldenEye',\n",
       " 'Heartbleed',\n",
       " 'Botnet',\n",
       " 'Portscan',\n",
       " 'DDoS']"
      ]
     },
     "execution_count": 27,
     "metadata": {},
     "output_type": "execute_result"
    }
   ],
   "source": [
    "[label for label in unique_labels if 'Attempted' not in label]"
   ]
  },
  {
   "cell_type": "code",
   "execution_count": null,
   "metadata": {},
   "outputs": [],
   "source": [
    "# Dropping all rows that belong to the attempted attacks\n",
    "df = df[df.Label != 'Web Attack � Brute Force']"
   ]
  },
  {
   "cell_type": "code",
   "execution_count": null,
   "metadata": {},
   "outputs": [],
   "source": [
    "# Adding normal/anomalous label\n",
    "dfs['ad_label'] = dfs['label'].apply(\n",
    "    lambda x: 1 if x != 'BENIGN' else 0, meta=('label', 'int64'))\n",
    "dfs.head()"
   ]
  },
  {
   "cell_type": "code",
   "execution_count": null,
   "metadata": {},
   "outputs": [],
   "source": [
    "dfs.columns"
   ]
  },
  {
   "cell_type": "code",
   "execution_count": null,
   "metadata": {},
   "outputs": [],
   "source": []
  }
 ],
 "metadata": {
  "kernelspec": {
   "display_name": "Python 3",
   "language": "python",
   "name": "python3"
  },
  "language_info": {
   "codemirror_mode": {
    "name": "ipython",
    "version": 3
   },
   "file_extension": ".py",
   "mimetype": "text/x-python",
   "name": "python",
   "nbconvert_exporter": "python",
   "pygments_lexer": "ipython3",
   "version": "3.10.12"
  }
 },
 "nbformat": 4,
 "nbformat_minor": 2
}
